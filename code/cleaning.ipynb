{
 "cells": [
  {
   "cell_type": "code",
   "execution_count": 1,
   "metadata": {},
   "outputs": [],
   "source": [
    "import pandas as pd\n",
    "import json"
   ]
  },
  {
   "cell_type": "code",
   "execution_count": 13,
   "metadata": {},
   "outputs": [],
   "source": [
    "path = \"../../data/feedback_test.json\"\n",
    "valid = json.load(open(path))"
   ]
  },
  {
   "cell_type": "code",
   "execution_count": 14,
   "metadata": {},
   "outputs": [],
   "source": [
    "with open(path, \"r\") as file:\n",
    "    valid = json.load(file)"
   ]
  },
  {
   "cell_type": "code",
   "execution_count": 15,
   "metadata": {},
   "outputs": [],
   "source": [
    "for item in valid:\n",
    "    item[\"passage\"][\"reference\"][\"section_content\"] = item[\"passage\"][\"reference\"][\n",
    "        \"section_content\"\n",
    "    ].replace(\"\\n\", \" \")"
   ]
  },
  {
   "cell_type": "code",
   "execution_count": 16,
   "metadata": {},
   "outputs": [
    {
     "data": {
      "text/plain": [
       "1995"
      ]
     },
     "execution_count": 16,
     "metadata": {},
     "output_type": "execute_result"
    }
   ],
   "source": [
    "len(valid)"
   ]
  },
  {
   "cell_type": "code",
   "execution_count": 17,
   "metadata": {},
   "outputs": [],
   "source": [
    "records = []\n",
    "for item in valid:\n",
    "    question = item[\"question\"]\n",
    "    section_content = item[\"passage\"][\"reference\"][\"section_content\"]\n",
    "    for rating in item[\"rating\"]:\n",
    "        records.append(\n",
    "            {\"Question\": question, \"Section_Content\": section_content, \"Rating\": rating}\n",
    "        )\n",
    "\n",
    "df = pd.DataFrame(records)"
   ]
  },
  {
   "cell_type": "code",
   "execution_count": 18,
   "metadata": {},
   "outputs": [],
   "source": [
    "df.rename(columns={\"Section_Content\": \"Answer\"}, inplace=True)"
   ]
  },
  {
   "cell_type": "code",
   "execution_count": 19,
   "metadata": {},
   "outputs": [
    {
     "data": {
      "text/plain": [
       "{'question': 'What are my options if I can not support myself on a WHM visa?',\n",
       " 'passage': {'passage_id': 567,\n",
       "  'source': 'Australia',\n",
       "  'uri': 'https://covid19.homeaffairs.gov.au/frequently-asked-questions',\n",
       "  'reference_type': 'FAQ',\n",
       "  'reference': {'page_title': 'Frequently Asked Questions',\n",
       "   'section_headers': ['COVID-19 Pandemic - Australian Government Endorsed Event (AGEE) stream of the Temporary Activity (subclass 408) visa',\n",
       "    'Frequently Asked Questions',\n",
       "    'When can I apply for the COVID-19 Pandemic event visa?'],\n",
       "   'section_content': 'You should only apply for this visa is you are unable to depart Australia, your temporary visa expires in less than 28 days (or did not expire more than 28 days ago) and you have no other visa options available to you.',\n",
       "   'selection_span': None,\n",
       "   'section_content_html': '<p>You should only apply for this visa is you are unable to depart Australia,\\nyour temporary visa expires in less than 28 days (or did not expire more than\\n28 days ago) and you have no other visa options available to you.</p>'}},\n",
       " 'feedback': [\"This answer does not address what one should do if they are on the WHM visa, and if they can't support themselves.\",\n",
       "  'This is off task, the answer is more about an expired visa',\n",
       "  'This only talks about Visa application, it fails to talk about the topic'],\n",
       " 'rating': ['Bad', 'Bad', 'Bad'],\n",
       " 'domain': 'Australia'}"
      ]
     },
     "execution_count": 19,
     "metadata": {},
     "output_type": "execute_result"
    }
   ],
   "source": [
    "valid[0]"
   ]
  },
  {
   "cell_type": "code",
   "execution_count": 20,
   "metadata": {},
   "outputs": [
    {
     "data": {
      "text/plain": [
       "1995"
      ]
     },
     "execution_count": 20,
     "metadata": {},
     "output_type": "execute_result"
    }
   ],
   "source": [
    "len(valid)"
   ]
  },
  {
   "cell_type": "code",
   "execution_count": 9,
   "metadata": {},
   "outputs": [
    {
     "data": {
      "text/html": [
       "<div>\n",
       "<style scoped>\n",
       "    .dataframe tbody tr th:only-of-type {\n",
       "        vertical-align: middle;\n",
       "    }\n",
       "\n",
       "    .dataframe tbody tr th {\n",
       "        vertical-align: top;\n",
       "    }\n",
       "\n",
       "    .dataframe thead th {\n",
       "        text-align: right;\n",
       "    }\n",
       "</style>\n",
       "<table border=\"1\" class=\"dataframe\">\n",
       "  <thead>\n",
       "    <tr style=\"text-align: right;\">\n",
       "      <th></th>\n",
       "      <th>Question</th>\n",
       "      <th>Answer</th>\n",
       "      <th>Rating</th>\n",
       "    </tr>\n",
       "  </thead>\n",
       "  <tbody>\n",
       "    <tr>\n",
       "      <th>0</th>\n",
       "      <td>How do I get help finding a job?</td>\n",
       "      <td>If you are a current job seeker or participant...</td>\n",
       "      <td>Excellent</td>\n",
       "    </tr>\n",
       "    <tr>\n",
       "      <th>1</th>\n",
       "      <td>How do I get help finding a job?</td>\n",
       "      <td>If you are a current job seeker or participant...</td>\n",
       "      <td>Could be Improved</td>\n",
       "    </tr>\n",
       "    <tr>\n",
       "      <th>2</th>\n",
       "      <td>How do I get help finding a job?</td>\n",
       "      <td>In this rapidly changing jobs market the Austr...</td>\n",
       "      <td>Excellent</td>\n",
       "    </tr>\n",
       "    <tr>\n",
       "      <th>3</th>\n",
       "      <td>How do I get help finding a job?</td>\n",
       "      <td>In this rapidly changing jobs market the Austr...</td>\n",
       "      <td>Excellent</td>\n",
       "    </tr>\n",
       "    <tr>\n",
       "      <th>4</th>\n",
       "      <td>How do I get help finding a job?</td>\n",
       "      <td>To further assist job seekers to prepare for a...</td>\n",
       "      <td>Bad</td>\n",
       "    </tr>\n",
       "    <tr>\n",
       "      <th>5</th>\n",
       "      <td>How do I get help finding a job?</td>\n",
       "      <td>To further assist job seekers to prepare for a...</td>\n",
       "      <td>Acceptable</td>\n",
       "    </tr>\n",
       "    <tr>\n",
       "      <th>6</th>\n",
       "      <td>If I am in Australia on a worker holiday marke...</td>\n",
       "      <td>No. Existing arrangements for specified work w...</td>\n",
       "      <td>Could be Improved</td>\n",
       "    </tr>\n",
       "    <tr>\n",
       "      <th>7</th>\n",
       "      <td>If I am in Australia on a worker holiday marke...</td>\n",
       "      <td>No. Existing arrangements for specified work w...</td>\n",
       "      <td>Acceptable</td>\n",
       "    </tr>\n",
       "    <tr>\n",
       "      <th>8</th>\n",
       "      <td>If I am in Australia on a worker holiday marke...</td>\n",
       "      <td>The COVID-19 Pandemic event visa can only be g...</td>\n",
       "      <td>Bad</td>\n",
       "    </tr>\n",
       "    <tr>\n",
       "      <th>9</th>\n",
       "      <td>If I am in Australia on a worker holiday marke...</td>\n",
       "      <td>The COVID-19 Pandemic event visa can only be g...</td>\n",
       "      <td>Could be Improved</td>\n",
       "    </tr>\n",
       "    <tr>\n",
       "      <th>10</th>\n",
       "      <td>If I am in Australia on a worker holiday marke...</td>\n",
       "      <td>You can apply for a further WHM visa if you ha...</td>\n",
       "      <td>Excellent</td>\n",
       "    </tr>\n",
       "    <tr>\n",
       "      <th>11</th>\n",
       "      <td>If I am in Australia on a worker holiday marke...</td>\n",
       "      <td>You can apply for a further WHM visa if you ha...</td>\n",
       "      <td>Excellent</td>\n",
       "    </tr>\n",
       "    <tr>\n",
       "      <th>12</th>\n",
       "      <td>Do immigration detention centers have proper PPE?</td>\n",
       "      <td>If clinically indicated detainees will be test...</td>\n",
       "      <td>Bad</td>\n",
       "    </tr>\n",
       "    <tr>\n",
       "      <th>13</th>\n",
       "      <td>Do immigration detention centers have proper PPE?</td>\n",
       "      <td>If clinically indicated detainees will be test...</td>\n",
       "      <td>Bad</td>\n",
       "    </tr>\n",
       "    <tr>\n",
       "      <th>14</th>\n",
       "      <td>Do immigration detention centers have proper PPE?</td>\n",
       "      <td>It has been observed that most religious group...</td>\n",
       "      <td>Bad</td>\n",
       "    </tr>\n",
       "  </tbody>\n",
       "</table>\n",
       "</div>"
      ],
      "text/plain": [
       "                                             Question  \\\n",
       "0                    How do I get help finding a job?   \n",
       "1                    How do I get help finding a job?   \n",
       "2                    How do I get help finding a job?   \n",
       "3                    How do I get help finding a job?   \n",
       "4                    How do I get help finding a job?   \n",
       "5                    How do I get help finding a job?   \n",
       "6   If I am in Australia on a worker holiday marke...   \n",
       "7   If I am in Australia on a worker holiday marke...   \n",
       "8   If I am in Australia on a worker holiday marke...   \n",
       "9   If I am in Australia on a worker holiday marke...   \n",
       "10  If I am in Australia on a worker holiday marke...   \n",
       "11  If I am in Australia on a worker holiday marke...   \n",
       "12  Do immigration detention centers have proper PPE?   \n",
       "13  Do immigration detention centers have proper PPE?   \n",
       "14  Do immigration detention centers have proper PPE?   \n",
       "\n",
       "                                               Answer             Rating  \n",
       "0   If you are a current job seeker or participant...          Excellent  \n",
       "1   If you are a current job seeker or participant...  Could be Improved  \n",
       "2   In this rapidly changing jobs market the Austr...          Excellent  \n",
       "3   In this rapidly changing jobs market the Austr...          Excellent  \n",
       "4   To further assist job seekers to prepare for a...                Bad  \n",
       "5   To further assist job seekers to prepare for a...         Acceptable  \n",
       "6   No. Existing arrangements for specified work w...  Could be Improved  \n",
       "7   No. Existing arrangements for specified work w...         Acceptable  \n",
       "8   The COVID-19 Pandemic event visa can only be g...                Bad  \n",
       "9   The COVID-19 Pandemic event visa can only be g...  Could be Improved  \n",
       "10  You can apply for a further WHM visa if you ha...          Excellent  \n",
       "11  You can apply for a further WHM visa if you ha...          Excellent  \n",
       "12  If clinically indicated detainees will be test...                Bad  \n",
       "13  If clinically indicated detainees will be test...                Bad  \n",
       "14  It has been observed that most religious group...                Bad  "
      ]
     },
     "execution_count": 9,
     "metadata": {},
     "output_type": "execute_result"
    }
   ],
   "source": [
    "df.head(15)"
   ]
  },
  {
   "cell_type": "code",
   "execution_count": 10,
   "metadata": {},
   "outputs": [
    {
     "data": {
      "text/plain": [
       "array(['Excellent', 'Could be Improved', 'Bad', 'Acceptable'],\n",
       "      dtype=object)"
      ]
     },
     "execution_count": 10,
     "metadata": {},
     "output_type": "execute_result"
    }
   ],
   "source": [
    "df[\"Rating\"].unique()"
   ]
  },
  {
   "cell_type": "code",
   "execution_count": 11,
   "metadata": {},
   "outputs": [
    {
     "name": "stdout",
     "output_type": "stream",
     "text": [
      "DataFrame has been saved as '../data/output.json'.\n"
     ]
    }
   ],
   "source": [
    "output_file_path = \"../data/output.json\"\n",
    "df.to_json(output_file_path, orient=\"records\", lines=True)\n",
    "\n",
    "print(f\"DataFrame has been saved as '{output_file_path}'.\")"
   ]
  }
 ],
 "metadata": {
  "kernelspec": {
   "display_name": "base",
   "language": "python",
   "name": "python3"
  },
  "language_info": {
   "codemirror_mode": {
    "name": "ipython",
    "version": 3
   },
   "file_extension": ".py",
   "mimetype": "text/x-python",
   "name": "python",
   "nbconvert_exporter": "python",
   "pygments_lexer": "ipython3",
   "version": "3.11.5"
  }
 },
 "nbformat": 4,
 "nbformat_minor": 2
}
