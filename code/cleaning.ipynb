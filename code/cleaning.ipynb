{
 "cells": [
  {
   "cell_type": "code",
   "execution_count": 1,
   "metadata": {},
   "outputs": [],
   "source": [
    "import pandas as pd\n",
    "import json"
   ]
  },
  {
   "cell_type": "code",
   "execution_count": 15,
   "metadata": {},
   "outputs": [],
   "source": [
    "path = \"../../data/feedback_train.json\"\n",
    "valid = json.load(open(path))"
   ]
  },
  {
   "cell_type": "code",
   "execution_count": 16,
   "metadata": {},
   "outputs": [],
   "source": [
    "with open(path, \"r\") as file:\n",
    "    valid = json.load(file)"
   ]
  },
  {
   "cell_type": "code",
   "execution_count": 17,
   "metadata": {},
   "outputs": [],
   "source": [
    "for item in valid:\n",
    "    item[\"passage\"][\"reference\"][\"section_content\"] = item[\"passage\"][\"reference\"][\n",
    "        \"section_content\"\n",
    "    ].replace(\"\\n\", \" \")"
   ]
  },
  {
   "cell_type": "code",
   "execution_count": 18,
   "metadata": {},
   "outputs": [
    {
     "data": {
      "text/plain": [
       "5660"
      ]
     },
     "execution_count": 18,
     "metadata": {},
     "output_type": "execute_result"
    }
   ],
   "source": [
    "len(valid)"
   ]
  },
  {
   "cell_type": "code",
   "execution_count": 19,
   "metadata": {},
   "outputs": [],
   "source": [
    "records = []\n",
    "for item in valid:\n",
    "    question = item[\"question\"]\n",
    "    section_content = item[\"passage\"][\"reference\"][\"section_content\"]\n",
    "    for rating in item[\"rating\"]:\n",
    "        records.append(\n",
    "            {\"Question\": question, \"Section_Content\": section_content, \"Rating\": rating}\n",
    "        )\n",
    "\n",
    "df = pd.DataFrame(records)"
   ]
  },
  {
   "cell_type": "code",
   "execution_count": 20,
   "metadata": {},
   "outputs": [],
   "source": [
    "df.rename(columns={\"Section_Content\": \"Answer\"}, inplace=True)"
   ]
  },
  {
   "cell_type": "code",
   "execution_count": 21,
   "metadata": {},
   "outputs": [
    {
     "data": {
      "text/plain": [
       "{'question': 'How do I get help finding a job?',\n",
       " 'passage': {'passage_id': 140,\n",
       "  'source': 'Australia',\n",
       "  'uri': 'https://www.dese.gov.au/covid-19/job-seekers',\n",
       "  'reference_type': 'Passage_only',\n",
       "  'reference': {'page_title': 'Coronavirus (COVID-19) information for job seekers',\n",
       "   'section_headers': ['Exisiting job seekers'],\n",
       "   'section_content': 'If you are a current job seeker or participant, this fact sheet provides important information about mutual obligation requirements, appointments with your provider, and what to do if you are self-isolating:  Information for job seekers and participants  If you are participating in the ParentsNext program, this fact sheet provides important information about your activities and appointments.   Information for ParentsNext participants   ParentsNext participants Frequently Asked Questions   If you are a New Business Assistance with NEIS participant, these Frequently Asked Questions (FAQ) provides information about accessing the Coronavirus Supplement and what support is available during this time:  New Business Assistance with NEIS participants - Frequently Asked Questions  If you are a New Business Assistance with NEIS provider, these Frequently Asked Questions (FAQ) provides information about supporting NEIS participants during the Coronavirus situation.  New Business Assistance with NEIS providers – Frequently Asked Questions  *[NEIS]: New Enterprise Incentive Scheme',\n",
       "   'selection_span': None,\n",
       "   'section_content_html': '<p>If you are a current job seeker or participant, this fact sheet provides\\nimportant information about mutual obligation requirements, appointments with\\nyour provider, and what to do if you are self-isolating:</p>\\n<ul>\\n<li><a href=\"https://docs.employment.gov.au/node/47535\">Information for job seekers and participants</a></li>\\n</ul>\\n<p>If you are participating in the ParentsNext program, this fact sheet provides\\nimportant information about your activities and appointments.</p>\\n<ul>\\n<li>\\n<p><a href=\"https://docs.employment.gov.au/node/47551\">Information for ParentsNext participants</a></p>\\n</li>\\n<li>\\n<p><a href=\"https://docs.employment.gov.au/node/47550\">ParentsNext participants Frequently Asked Questions</a></p>\\n</li>\\n</ul>\\n<p>If you are a New Business Assistance with NEIS participant, these Frequently\\nAsked Questions (FAQ) provides information about accessing the Coronavirus\\nSupplement and what support is available during this time:</p>\\n<ul>\\n<li><a href=\"https://docs.employment.gov.au/node/47552\">New Business Assistance with NEIS participants - Frequently Asked Questions</a></li>\\n</ul>\\n<p>If you are a New Business Assistance with NEIS provider, these Frequently\\nAsked Questions (FAQ) provides information about supporting NEIS participants\\nduring the Coronavirus situation.</p>\\n<ul>\\n<li><a href=\"http://\\u200bdocs.employment.gov.au/node/47592\">New Business Assistance with NEIS providers – Frequently Asked Questions</a></li>\\n</ul>\\n<p>*[NEIS]: New Enterprise Incentive Scheme</p>'}},\n",
       " 'feedback': ['Has a link to detailed information about government programs for job seekers.',\n",
       "  'This answer provides a link for job searches, which is good, but also provides links to unrelated sites.'],\n",
       " 'rating': ['Excellent', 'Could be Improved'],\n",
       " 'domain': 'Australia'}"
      ]
     },
     "execution_count": 21,
     "metadata": {},
     "output_type": "execute_result"
    }
   ],
   "source": [
    "valid[0]"
   ]
  },
  {
   "cell_type": "code",
   "execution_count": 22,
   "metadata": {},
   "outputs": [
    {
     "data": {
      "text/html": [
       "<div>\n",
       "<style scoped>\n",
       "    .dataframe tbody tr th:only-of-type {\n",
       "        vertical-align: middle;\n",
       "    }\n",
       "\n",
       "    .dataframe tbody tr th {\n",
       "        vertical-align: top;\n",
       "    }\n",
       "\n",
       "    .dataframe thead th {\n",
       "        text-align: right;\n",
       "    }\n",
       "</style>\n",
       "<table border=\"1\" class=\"dataframe\">\n",
       "  <thead>\n",
       "    <tr style=\"text-align: right;\">\n",
       "      <th></th>\n",
       "      <th>Question</th>\n",
       "      <th>Answer</th>\n",
       "      <th>Rating</th>\n",
       "    </tr>\n",
       "  </thead>\n",
       "  <tbody>\n",
       "    <tr>\n",
       "      <th>0</th>\n",
       "      <td>How do I get help finding a job?</td>\n",
       "      <td>If you are a current job seeker or participant...</td>\n",
       "      <td>Excellent</td>\n",
       "    </tr>\n",
       "    <tr>\n",
       "      <th>1</th>\n",
       "      <td>How do I get help finding a job?</td>\n",
       "      <td>If you are a current job seeker or participant...</td>\n",
       "      <td>Could be Improved</td>\n",
       "    </tr>\n",
       "    <tr>\n",
       "      <th>2</th>\n",
       "      <td>How do I get help finding a job?</td>\n",
       "      <td>In this rapidly changing jobs market the Austr...</td>\n",
       "      <td>Excellent</td>\n",
       "    </tr>\n",
       "    <tr>\n",
       "      <th>3</th>\n",
       "      <td>How do I get help finding a job?</td>\n",
       "      <td>In this rapidly changing jobs market the Austr...</td>\n",
       "      <td>Excellent</td>\n",
       "    </tr>\n",
       "    <tr>\n",
       "      <th>4</th>\n",
       "      <td>How do I get help finding a job?</td>\n",
       "      <td>To further assist job seekers to prepare for a...</td>\n",
       "      <td>Bad</td>\n",
       "    </tr>\n",
       "    <tr>\n",
       "      <th>5</th>\n",
       "      <td>How do I get help finding a job?</td>\n",
       "      <td>To further assist job seekers to prepare for a...</td>\n",
       "      <td>Acceptable</td>\n",
       "    </tr>\n",
       "    <tr>\n",
       "      <th>6</th>\n",
       "      <td>If I am in Australia on a worker holiday marke...</td>\n",
       "      <td>No. Existing arrangements for specified work w...</td>\n",
       "      <td>Could be Improved</td>\n",
       "    </tr>\n",
       "    <tr>\n",
       "      <th>7</th>\n",
       "      <td>If I am in Australia on a worker holiday marke...</td>\n",
       "      <td>No. Existing arrangements for specified work w...</td>\n",
       "      <td>Acceptable</td>\n",
       "    </tr>\n",
       "    <tr>\n",
       "      <th>8</th>\n",
       "      <td>If I am in Australia on a worker holiday marke...</td>\n",
       "      <td>The COVID-19 Pandemic event visa can only be g...</td>\n",
       "      <td>Bad</td>\n",
       "    </tr>\n",
       "    <tr>\n",
       "      <th>9</th>\n",
       "      <td>If I am in Australia on a worker holiday marke...</td>\n",
       "      <td>The COVID-19 Pandemic event visa can only be g...</td>\n",
       "      <td>Could be Improved</td>\n",
       "    </tr>\n",
       "    <tr>\n",
       "      <th>10</th>\n",
       "      <td>If I am in Australia on a worker holiday marke...</td>\n",
       "      <td>You can apply for a further WHM visa if you ha...</td>\n",
       "      <td>Excellent</td>\n",
       "    </tr>\n",
       "    <tr>\n",
       "      <th>11</th>\n",
       "      <td>If I am in Australia on a worker holiday marke...</td>\n",
       "      <td>You can apply for a further WHM visa if you ha...</td>\n",
       "      <td>Excellent</td>\n",
       "    </tr>\n",
       "    <tr>\n",
       "      <th>12</th>\n",
       "      <td>Do immigration detention centers have proper PPE?</td>\n",
       "      <td>If clinically indicated detainees will be test...</td>\n",
       "      <td>Bad</td>\n",
       "    </tr>\n",
       "    <tr>\n",
       "      <th>13</th>\n",
       "      <td>Do immigration detention centers have proper PPE?</td>\n",
       "      <td>If clinically indicated detainees will be test...</td>\n",
       "      <td>Bad</td>\n",
       "    </tr>\n",
       "    <tr>\n",
       "      <th>14</th>\n",
       "      <td>Do immigration detention centers have proper PPE?</td>\n",
       "      <td>It has been observed that most religious group...</td>\n",
       "      <td>Bad</td>\n",
       "    </tr>\n",
       "  </tbody>\n",
       "</table>\n",
       "</div>"
      ],
      "text/plain": [
       "                                             Question  \\\n",
       "0                    How do I get help finding a job?   \n",
       "1                    How do I get help finding a job?   \n",
       "2                    How do I get help finding a job?   \n",
       "3                    How do I get help finding a job?   \n",
       "4                    How do I get help finding a job?   \n",
       "5                    How do I get help finding a job?   \n",
       "6   If I am in Australia on a worker holiday marke...   \n",
       "7   If I am in Australia on a worker holiday marke...   \n",
       "8   If I am in Australia on a worker holiday marke...   \n",
       "9   If I am in Australia on a worker holiday marke...   \n",
       "10  If I am in Australia on a worker holiday marke...   \n",
       "11  If I am in Australia on a worker holiday marke...   \n",
       "12  Do immigration detention centers have proper PPE?   \n",
       "13  Do immigration detention centers have proper PPE?   \n",
       "14  Do immigration detention centers have proper PPE?   \n",
       "\n",
       "                                               Answer             Rating  \n",
       "0   If you are a current job seeker or participant...          Excellent  \n",
       "1   If you are a current job seeker or participant...  Could be Improved  \n",
       "2   In this rapidly changing jobs market the Austr...          Excellent  \n",
       "3   In this rapidly changing jobs market the Austr...          Excellent  \n",
       "4   To further assist job seekers to prepare for a...                Bad  \n",
       "5   To further assist job seekers to prepare for a...         Acceptable  \n",
       "6   No. Existing arrangements for specified work w...  Could be Improved  \n",
       "7   No. Existing arrangements for specified work w...         Acceptable  \n",
       "8   The COVID-19 Pandemic event visa can only be g...                Bad  \n",
       "9   The COVID-19 Pandemic event visa can only be g...  Could be Improved  \n",
       "10  You can apply for a further WHM visa if you ha...          Excellent  \n",
       "11  You can apply for a further WHM visa if you ha...          Excellent  \n",
       "12  If clinically indicated detainees will be test...                Bad  \n",
       "13  If clinically indicated detainees will be test...                Bad  \n",
       "14  It has been observed that most religious group...                Bad  "
      ]
     },
     "execution_count": 22,
     "metadata": {},
     "output_type": "execute_result"
    }
   ],
   "source": [
    "df.head(15)"
   ]
  },
  {
   "cell_type": "code",
   "execution_count": 24,
   "metadata": {},
   "outputs": [
    {
     "data": {
      "text/plain": [
       "array(['Excellent', 'Could be Improved', 'Bad', 'Acceptable'],\n",
       "      dtype=object)"
      ]
     },
     "execution_count": 24,
     "metadata": {},
     "output_type": "execute_result"
    }
   ],
   "source": [
    "df[\"Rating\"].unique()"
   ]
  },
  {
   "cell_type": "code",
   "execution_count": 25,
   "metadata": {},
   "outputs": [
    {
     "name": "stdout",
     "output_type": "stream",
     "text": [
      "DataFrame has been saved as '../data/output.json'.\n"
     ]
    }
   ],
   "source": [
    "output_file_path = \"../data/output.json\"\n",
    "df.to_json(output_file_path, orient=\"records\", lines=True)\n",
    "\n",
    "print(f\"DataFrame has been saved as '{output_file_path}'.\")"
   ]
  }
 ],
 "metadata": {
  "kernelspec": {
   "display_name": "base",
   "language": "python",
   "name": "python3"
  },
  "language_info": {
   "codemirror_mode": {
    "name": "ipython",
    "version": 3
   },
   "file_extension": ".py",
   "mimetype": "text/x-python",
   "name": "python",
   "nbconvert_exporter": "python",
   "pygments_lexer": "ipython3",
   "version": "3.11.5"
  }
 },
 "nbformat": 4,
 "nbformat_minor": 2
}
