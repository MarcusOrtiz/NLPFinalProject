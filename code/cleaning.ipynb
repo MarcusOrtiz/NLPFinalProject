{
 "cells": [
  {
   "cell_type": "code",
   "execution_count": 1,
   "metadata": {},
   "outputs": [],
   "source": [
    "import pandas as pd\n",
    "import json"
   ]
  },
  {
   "cell_type": "code",
   "execution_count": 2,
   "metadata": {},
   "outputs": [],
   "source": [
    "path = \"../../data/feedback_test.json\"\n",
    "valid = json.load(open(path))"
   ]
  },
  {
   "cell_type": "code",
   "execution_count": 3,
   "metadata": {},
   "outputs": [],
   "source": [
    "with open(path, \"r\") as file:\n",
    "    valid = json.load(file)"
   ]
  },
  {
   "cell_type": "code",
   "execution_count": 4,
   "metadata": {},
   "outputs": [],
   "source": [
    "for item in valid:\n",
    "    item[\"passage\"][\"reference\"][\"section_content\"] = item[\"passage\"][\"reference\"][\n",
    "        \"section_content\"\n",
    "    ].replace(\"\\n\", \" \")"
   ]
  },
  {
   "cell_type": "code",
   "execution_count": 5,
   "metadata": {},
   "outputs": [],
   "source": [
    "records = []\n",
    "for item in valid:\n",
    "    question = item[\"question\"]\n",
    "    section_content = item[\"passage\"][\"reference\"][\"section_content\"]\n",
    "    for rating in item[\"rating\"]:\n",
    "        records.append(\n",
    "            {\"Question\": question, \"Section_Content\": section_content, \"Rating\": rating}\n",
    "        )\n",
    "\n",
    "df = pd.DataFrame(records)"
   ]
  },
  {
   "cell_type": "code",
   "execution_count": 6,
   "metadata": {},
   "outputs": [],
   "source": [
    "df.rename(columns={\"Section_Content\": \"Answer\"}, inplace=True)"
   ]
  },
  {
   "cell_type": "code",
   "execution_count": 7,
   "metadata": {},
   "outputs": [
    {
     "data": {
      "text/html": [
       "<div>\n",
       "<style scoped>\n",
       "    .dataframe tbody tr th:only-of-type {\n",
       "        vertical-align: middle;\n",
       "    }\n",
       "\n",
       "    .dataframe tbody tr th {\n",
       "        vertical-align: top;\n",
       "    }\n",
       "\n",
       "    .dataframe thead th {\n",
       "        text-align: right;\n",
       "    }\n",
       "</style>\n",
       "<table border=\"1\" class=\"dataframe\">\n",
       "  <thead>\n",
       "    <tr style=\"text-align: right;\">\n",
       "      <th></th>\n",
       "      <th>Question</th>\n",
       "      <th>Answer</th>\n",
       "      <th>Rating</th>\n",
       "    </tr>\n",
       "  </thead>\n",
       "  <tbody>\n",
       "    <tr>\n",
       "      <th>0</th>\n",
       "      <td>What are my options if I can not support mysel...</td>\n",
       "      <td>You should only apply for this visa is you are...</td>\n",
       "      <td>Bad</td>\n",
       "    </tr>\n",
       "    <tr>\n",
       "      <th>1</th>\n",
       "      <td>What are my options if I can not support mysel...</td>\n",
       "      <td>You should only apply for this visa is you are...</td>\n",
       "      <td>Bad</td>\n",
       "    </tr>\n",
       "    <tr>\n",
       "      <th>2</th>\n",
       "      <td>What are my options if I can not support mysel...</td>\n",
       "      <td>You should only apply for this visa is you are...</td>\n",
       "      <td>Bad</td>\n",
       "    </tr>\n",
       "    <tr>\n",
       "      <th>3</th>\n",
       "      <td>I was a working Holiday Maker but lost my job;...</td>\n",
       "      <td>You should only apply for this visa is you are...</td>\n",
       "      <td>Bad</td>\n",
       "    </tr>\n",
       "    <tr>\n",
       "      <th>4</th>\n",
       "      <td>I was a working Holiday Maker but lost my job;...</td>\n",
       "      <td>You should only apply for this visa is you are...</td>\n",
       "      <td>Bad</td>\n",
       "    </tr>\n",
       "    <tr>\n",
       "      <th>5</th>\n",
       "      <td>I was a working Holiday Maker but lost my job;...</td>\n",
       "      <td>You should only apply for this visa is you are...</td>\n",
       "      <td>Bad</td>\n",
       "    </tr>\n",
       "    <tr>\n",
       "      <th>6</th>\n",
       "      <td>Is it practical to expect children to practice...</td>\n",
       "      <td>If your child is sick, they must not go to sch...</td>\n",
       "      <td>Bad</td>\n",
       "    </tr>\n",
       "    <tr>\n",
       "      <th>7</th>\n",
       "      <td>Is it practical to expect children to practice...</td>\n",
       "      <td>If your child is sick, they must not go to sch...</td>\n",
       "      <td>Could be Improved</td>\n",
       "    </tr>\n",
       "    <tr>\n",
       "      <th>8</th>\n",
       "      <td>Is it practical to expect children to practice...</td>\n",
       "      <td>If your child is sick, they must not go to sch...</td>\n",
       "      <td>Bad</td>\n",
       "    </tr>\n",
       "    <tr>\n",
       "      <th>9</th>\n",
       "      <td>Do I have to continue making gym membership pa...</td>\n",
       "      <td>Membership ‘freeze’ or ‘holding’ fees may be ...</td>\n",
       "      <td>Excellent</td>\n",
       "    </tr>\n",
       "  </tbody>\n",
       "</table>\n",
       "</div>"
      ],
      "text/plain": [
       "                                            Question  \\\n",
       "0  What are my options if I can not support mysel...   \n",
       "1  What are my options if I can not support mysel...   \n",
       "2  What are my options if I can not support mysel...   \n",
       "3  I was a working Holiday Maker but lost my job;...   \n",
       "4  I was a working Holiday Maker but lost my job;...   \n",
       "5  I was a working Holiday Maker but lost my job;...   \n",
       "6  Is it practical to expect children to practice...   \n",
       "7  Is it practical to expect children to practice...   \n",
       "8  Is it practical to expect children to practice...   \n",
       "9  Do I have to continue making gym membership pa...   \n",
       "\n",
       "                                              Answer             Rating  \n",
       "0  You should only apply for this visa is you are...                Bad  \n",
       "1  You should only apply for this visa is you are...                Bad  \n",
       "2  You should only apply for this visa is you are...                Bad  \n",
       "3  You should only apply for this visa is you are...                Bad  \n",
       "4  You should only apply for this visa is you are...                Bad  \n",
       "5  You should only apply for this visa is you are...                Bad  \n",
       "6  If your child is sick, they must not go to sch...                Bad  \n",
       "7  If your child is sick, they must not go to sch...  Could be Improved  \n",
       "8  If your child is sick, they must not go to sch...                Bad  \n",
       "9   Membership ‘freeze’ or ‘holding’ fees may be ...          Excellent  "
      ]
     },
     "execution_count": 7,
     "metadata": {},
     "output_type": "execute_result"
    }
   ],
   "source": [
    "df.head(10)"
   ]
  },
  {
   "cell_type": "code",
   "execution_count": 9,
   "metadata": {},
   "outputs": [
    {
     "data": {
      "text/plain": [
       "array(['Bad', 'Could be Improved', 'Excellent', 'Acceptable'],\n",
       "      dtype=object)"
      ]
     },
     "execution_count": 9,
     "metadata": {},
     "output_type": "execute_result"
    }
   ],
   "source": [
    "df[\"Rating\"].unique()"
   ]
  },
  {
   "cell_type": "code",
   "execution_count": 8,
   "metadata": {},
   "outputs": [
    {
     "name": "stdout",
     "output_type": "stream",
     "text": [
      "DataFrame has been saved as '../data/test_output.json'.\n"
     ]
    }
   ],
   "source": [
    "output_file_path = \"../data/output.json\"\n",
    "df.to_json(output_file_path, orient=\"records\", lines=True)\n",
    "\n",
    "print(f\"DataFrame has been saved as '{output_file_path}'.\")"
   ]
  }
 ],
 "metadata": {
  "kernelspec": {
   "display_name": "base",
   "language": "python",
   "name": "python3"
  },
  "language_info": {
   "codemirror_mode": {
    "name": "ipython",
    "version": 3
   },
   "file_extension": ".py",
   "mimetype": "text/x-python",
   "name": "python",
   "nbconvert_exporter": "python",
   "pygments_lexer": "ipython3",
   "version": "3.11.5"
  }
 },
 "nbformat": 4,
 "nbformat_minor": 2
}
